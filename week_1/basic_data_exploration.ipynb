{
  "nbformat": 4,
  "nbformat_minor": 0,
  "metadata": {
    "colab": {
      "provenance": [],
      "authorship_tag": "ABX9TyM0PDUvGIYJeBDECrl1bwh1",
      "include_colab_link": true
    },
    "kernelspec": {
      "name": "python3",
      "display_name": "Python 3"
    },
    "language_info": {
      "name": "python"
    }
  },
  "cells": [
    {
      "cell_type": "markdown",
      "metadata": {
        "id": "view-in-github",
        "colab_type": "text"
      },
      "source": [
        "<a href=\"https://colab.research.google.com/github/cisnux-seed/course-machine-learning/blob/main/week_1/basic_data_exploration.ipynb\" target=\"_parent\"><img src=\"https://colab.research.google.com/assets/colab-badge.svg\" alt=\"Open In Colab\"/></a>"
      ]
    },
    {
      "cell_type": "markdown",
      "source": [
        "### Name  : Fajra Risqulla\n",
        "### Class : TK-44-06\n",
        "### NIM   : 1103200032\n",
        "### Topic : Basic Data Exploration"
      ],
      "metadata": {
        "id": "hjbLslvJ5Yfv"
      }
    },
    {
      "cell_type": "code",
      "execution_count": null,
      "metadata": {
        "id": "6qyVnbsg47VX"
      },
      "outputs": [],
      "source": [
        "import pandas as pd\n",
        "\n"
      ]
    }
  ]
}